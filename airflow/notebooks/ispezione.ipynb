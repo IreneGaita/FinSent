{
 "cells": [
  {
   "cell_type": "code",
   "id": "initial_id",
   "metadata": {
    "collapsed": true,
    "ExecuteTime": {
     "end_time": "2025-04-15T10:12:35.782171Z",
     "start_time": "2025-04-15T10:12:35.759807Z"
    }
   },
   "source": [
    "import pickle\n",
    "import pandas as pd\n",
    "from scipy import sparse\n",
    "\n",
    "# === Caricamento oggetti salvati ===\n",
    "\n",
    "# Carica il vettorizzatore TF-IDF\n",
    "with open(\"../models/tfidf_vectorizer.pkl\", \"rb\") as f:\n",
    "    vectorizer = pickle.load(f)\n",
    "\n",
    "# Carica la matrice vettoriale\n",
    "X_tfidf = sparse.load_npz(\"../sentiment_data/X_tfidf.npz\")\n",
    "\n",
    "# Carica le etichette\n",
    "y = pd.read_csv(\"../sentiment_data/y.csv\")[\"label\"]\n",
    "\n",
    "# === Ispezione ===\n",
    "\n",
    "print(\"=== INFO VETTORIZZATORE TF-IDF ===\")\n",
    "print(\"Numero di feature (parole):\", len(vectorizer.get_feature_names_out()))\n",
    "print(\"Prime 50 parole nel vocabolario del vettorizzatore:\", list(vectorizer.get_feature_names_out())[:50])\n",
    "\n",
    "\n",
    "print(\"=== INFO MATRICE TF-IDF ===\")\n",
    "print(\"Forma della matrice:\", X_tfidf.shape)\n",
    "print(\"Densità media dei vettori:\", X_tfidf.nnz / X_tfidf.shape[0])\n",
    "print()\n",
    "\n",
    "print(\"=== ESEMPI ===\")\n",
    "for i in range(3):\n",
    "    print(f\"Frase {i+1} (label: {y[i]}):\")\n",
    "    print(X_tfidf[i].todense())\n",
    "    print()\n",
    "# Prendi la prima frase preprocessata (o quella su cui hai fatto fit)\n",
    "\n",
    "\n"
   ],
   "outputs": [
    {
     "name": "stdout",
     "output_type": "stream",
     "text": [
      "=== INFO VETTORIZZATORE TF-IDF ===\n",
      "Numero di feature (parole): 2399\n",
      "Prime 50 parole nel vocabolario del vettorizzatore: ['_land', 'ab', 'abl', 'abp', 'abp hel', 'abroad', 'ac', 'ac drive', 'access', 'accessori', 'accord', 'accord ceo', 'accord compani', 'accord finnish', 'account', 'account period', 'achiev', 'acquir', 'acquir entir', 'acquir share', 'acquisit', 'act', 'action', 'activ', 'actual', 'actual situat', 'ad', 'add', 'addit', 'address', 'adjust', 'administr', 'adp', 'adp news', 'adpnew', 'advanc', 'advantag', 'advertis', 'advisori', 'affect', 'affecto', 'africa', 'afternoon', 'afx', 'ag', 'ago', 'agre', 'agre buy', 'agre sell', 'agreement']\n",
      "=== INFO MATRICE TF-IDF ===\n",
      "Forma della matrice: (4816, 2399)\n",
      "Densità media dei vettori: 10.925456810631228\n",
      "\n",
      "=== ESEMPI ===\n",
      "Frase 1 (label: neutral):\n",
      "[[0. 0. 0. ... 0. 0. 0.]]\n",
      "\n",
      "Frase 2 (label: neutral):\n",
      "[[0. 0. 0. ... 0. 0. 0.]]\n",
      "\n",
      "Frase 3 (label: negative):\n",
      "[[0. 0. 0. ... 0. 0. 0.]]\n",
      "\n"
     ]
    }
   ],
   "execution_count": 10
  },
  {
   "metadata": {},
   "cell_type": "markdown",
   "source": [
    "# Verifica del vettorizzatore TF-IDF:\n",
    " L'output conferma che il TF-IDF è stato applicato correttamente.\n",
    " - Il vocabolario contiene 2399 termini unici (basandosi su max_features=5000 ma filtrati da min_df=5 e stop_words=\"english\").\n",
    "\n",
    " - La matrice TF-IDF ha dimensione (4816, 2399), quindi ogni frase è rappresentata come un vettore sparso di 2531 dimensioni.(4816 frasi rappresentate da 2399 feature/parole.)\n",
    " - La densità media indica che, in media, ogni frase attiva circa 10 feature/parole diverse presenti nel vocabolario.\n"
   ],
   "id": "a85f8bf2282b023"
  }
 ],
 "metadata": {
  "kernelspec": {
   "display_name": "Python 3",
   "language": "python",
   "name": "python3"
  },
  "language_info": {
   "codemirror_mode": {
    "name": "ipython",
    "version": 2
   },
   "file_extension": ".py",
   "mimetype": "text/x-python",
   "name": "python",
   "nbconvert_exporter": "python",
   "pygments_lexer": "ipython2",
   "version": "2.7.6"
  }
 },
 "nbformat": 4,
 "nbformat_minor": 5
}
