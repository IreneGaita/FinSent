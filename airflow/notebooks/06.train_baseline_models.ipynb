{
 "cells": [
  {
   "cell_type": "code",
   "execution_count": 79,
   "id": "0f481ab2",
   "metadata": {},
   "outputs": [],
   "source": [
    "import numpy as np\n",
    "import pandas as pd\n",
    "import os\n",
    "from sklearn.model_selection import train_test_split\n",
    "from sklearn.metrics import classification_report, confusion_matrix\n",
    "from sklearn.linear_model import LogisticRegression\n",
    "from sklearn.svm import SVC\n",
    "from sklearn.ensemble import RandomForestClassifier\n",
    "from sklearn.neural_network import MLPClassifier\n",
    "from sklearn.preprocessing import OneHotEncoder\n",
    "import joblib\n",
    "from pathlib import Path\n",
    "from sklearn.preprocessing import LabelEncoder"
   ]
  },
  {
   "cell_type": "code",
   "execution_count": 80,
   "id": "545b1cb5",
   "metadata": {},
   "outputs": [],
   "source": [
    "csv_aggressive_path = \"../data/topic/topics_aggressive.csv\"\n",
    "#csv_light_path = \"..\\data\\topic\\topics_light.csv\"\n",
    "\n",
    "df_aggresive = pd.read_csv(csv_aggressive_path)\n",
    "#df_light = pd.read_csv(csv_light_path)"
   ]
  },
  {
   "cell_type": "code",
   "execution_count": 81,
   "id": "e3ea2b35",
   "metadata": {},
   "outputs": [
    {
     "name": "stdout",
     "output_type": "stream",
     "text": [
      "['neutral' 'neutral' 'negative' 'positive' 'positive']\n",
      "object\n",
      "\n",
      " [1 1 0 2 2]\n",
      "int32\n"
     ]
    }
   ],
   "source": [
    "y = df_aggresive[\"label\"].values\n",
    "\n",
    "label_encoder = LabelEncoder()\n",
    "y_encoded = label_encoder.fit_transform(y)  # 'neutral', 'positive', 'negative'\n",
    "\n",
    "print(y[:5])\n",
    "print(y.dtype)\n",
    "\n",
    "print(\"\\n\",y_encoded[:5])\n",
    "print(y_encoded.dtype)"
   ]
  },
  {
   "cell_type": "code",
   "execution_count": 82,
   "id": "f69e401e",
   "metadata": {},
   "outputs": [
    {
     "name": "stdout",
     "output_type": "stream",
     "text": [
      "[ 5  4 51 ... 99  8  8]\n",
      "int64\n"
     ]
    }
   ],
   "source": [
    "aggressive_topics  = df_aggresive[\"topic\"].values\n",
    "\n",
    "print(aggressive_topics)\n",
    "print(aggressive_topics.dtype)"
   ]
  },
  {
   "cell_type": "code",
   "execution_count": 83,
   "id": "3bc30190",
   "metadata": {},
   "outputs": [],
   "source": [
    "def check_files_exist(*file_paths):\n",
    "    for path_str in file_paths:\n",
    "        path = Path(path_str)\n",
    "        if not path.exists():\n",
    "            raise FileNotFoundError(f\"Il file '{path}' non esiste.\")"
   ]
  },
  {
   "cell_type": "code",
   "execution_count": 84,
   "id": "1d96506e",
   "metadata": {},
   "outputs": [
    {
     "name": "stdout",
     "output_type": "stream",
     "text": [
      "File embeddings presenti\n"
     ]
    }
   ],
   "source": [
    "embeddings_dir_path = \"../data/embeddings/\"\n",
    "\n",
    "embeddings_bert_path = os.path.join(embeddings_dir_path, \"embeddings_bert.npy\")\n",
    "embeddings_sbert_path = os.path.join(embeddings_dir_path, \"embeddings_sbert.npy\")\n",
    "embeddings_finbert_path = os.path.join(embeddings_dir_path, \"embeddings_finbert.npy\")\n",
    "mbeddings_word2vec_path = os.path.join(embeddings_dir_path, \"embeddings_word2vec.npy\")\n",
    "\n",
    "check_files_exist(\n",
    "    embeddings_bert_path, embeddings_sbert_path, embeddings_finbert_path, mbeddings_word2vec_path\n",
    ")\n",
    "\n",
    "print(\"File embeddings presenti\")"
   ]
  },
  {
   "cell_type": "code",
   "execution_count": 85,
   "id": "12b547f1",
   "metadata": {},
   "outputs": [],
   "source": [
    "def load_embeddings_with_optional_topic(embedding_path, topic_ids=None):\n",
    "    X = np.load(embedding_path)\n",
    "\n",
    "    if topic_ids is not None:\n",
    "        encoder = OneHotEncoder(sparse_output=False)\n",
    "        topic_features = encoder.fit_transform(topic_ids.reshape(-1, 1))\n",
    "        X = np.hstack([X, topic_features])\n",
    "        \n",
    "    return X\n"
   ]
  },
  {
   "cell_type": "code",
   "execution_count": 102,
   "id": "fb64205b",
   "metadata": {},
   "outputs": [],
   "source": [
    "def split_data(X, y, test_size=0.1, val_size=0.2, random_state=42):\n",
    "    X_temp, X_test, y_temp, y_test = train_test_split(\n",
    "        X, y, test_size=test_size, stratify=y, random_state=random_state\n",
    "    )\n",
    "    val_ratio = val_size / (1 - test_size)  # val% su ciò che rimane\n",
    "    X_train, X_val, y_train, y_val = train_test_split(\n",
    "        X_temp, y_temp, test_size=val_ratio, stratify=y_temp, random_state=random_state\n",
    "    )\n",
    "    return X_train, X_val, X_test, y_train, y_val, y_test\n"
   ]
  },
  {
   "cell_type": "code",
   "execution_count": 104,
   "id": "8557aece",
   "metadata": {},
   "outputs": [
    {
     "name": "stdout",
     "output_type": "stream",
     "text": [
      "(4821, 768)\n",
      "(4821, 873)\n"
     ]
    }
   ],
   "source": [
    "embeddings_bert = load_embeddings_with_optional_topic(embeddings_bert_path)\n",
    "embeddings_bert2 = load_embeddings_with_optional_topic(embeddings_bert_path, aggressive_topics)\n",
    "\n",
    "print(embeddings_bert.shape)\n",
    "print(embeddings_bert2.shape)"
   ]
  },
  {
   "cell_type": "code",
   "execution_count": 90,
   "id": "845d0038",
   "metadata": {},
   "outputs": [],
   "source": [
    "def show_label_distribution(y_train, y_val, y_test):\n",
    "    # Conteggio per ciascun set\n",
    "    train_counts = pd.Series(y_train).value_counts().sort_index()\n",
    "    val_counts = pd.Series(y_val).value_counts().sort_index()\n",
    "    test_counts = pd.Series(y_test).value_counts().sort_index()\n",
    "\n",
    "    # Unione in una tabella\n",
    "    df = pd.DataFrame({\n",
    "        'Train': train_counts,\n",
    "        'Validation': val_counts,\n",
    "        'Test': test_counts\n",
    "    }).fillna(0).astype(int)\n",
    "\n",
    "    # Percentuali per ogni colonna\n",
    "    df_percent = df.div(df.sum(axis=0), axis=1) * 100\n",
    "    df_percent = df_percent.round(2).astype(str) + '%'\n",
    "\n",
    "    # Aggiungi le percentuali sotto i numeri assoluti\n",
    "    result = df.astype(str) + ' (' + df_percent + ')'\n",
    "\n",
    "    return result\n"
   ]
  },
  {
   "cell_type": "code",
   "execution_count": 103,
   "id": "b998d62d",
   "metadata": {},
   "outputs": [
    {
     "name": "stdout",
     "output_type": "stream",
     "text": [
      "Train Set Size: 3855\n",
      "Validation Set Size: 483\n",
      "Test Set Size: 483\n",
      "\n",
      "                   Train    Validation          Test\n",
      "negative    482 (12.5%)   61 (12.63%)   60 (12.42%)\n",
      "neutral   2284 (59.25%)  286 (59.21%)  286 (59.21%)\n",
      "positive  1089 (28.25%)  136 (28.16%)  137 (28.36%)\n"
     ]
    }
   ],
   "source": [
    "test_size = 0.1\n",
    "val_size = 0.1\n",
    "X = embeddings_bert\n",
    "\n",
    "X_train, X_val, X_test, y_train, y_val, y_test = split_data(\n",
    "    X, y, test_size=test_size, val_size = val_size\n",
    ")\n",
    "\n",
    "print(f\"Train Set Size: {len(X_train)}\")\n",
    "print(f\"Validation Set Size: {len(X_val)}\")\n",
    "print(f\"Test Set Size: {len(X_test)}\")\n",
    "\n",
    "distribuzione = show_label_distribution(y_train, y_val, y_test)\n",
    "print(\"\\n\", distribuzione)"
   ]
  }
 ],
 "metadata": {
  "kernelspec": {
   "display_name": "env_nlp",
   "language": "python",
   "name": "python3"
  },
  "language_info": {
   "codemirror_mode": {
    "name": "ipython",
    "version": 3
   },
   "file_extension": ".py",
   "mimetype": "text/x-python",
   "name": "python",
   "nbconvert_exporter": "python",
   "pygments_lexer": "ipython3",
   "version": "3.10.7"
  }
 },
 "nbformat": 4,
 "nbformat_minor": 5
}
